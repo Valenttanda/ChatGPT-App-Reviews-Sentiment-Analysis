{
 "cells": [
  {
   "cell_type": "markdown",
   "metadata": {
    "id": "WII-_aLVai2d"
   },
   "source": [
    "## Import Library"
   ]
  },
  {
   "cell_type": "code",
   "execution_count": 18,
   "metadata": {
    "executionInfo": {
     "elapsed": 87,
     "status": "ok",
     "timestamp": 1743881129139,
     "user": {
      "displayName": "Diamond Cluster",
      "userId": "17356708684991015323"
     },
     "user_tz": -420
    },
    "id": "DoaUsPTWaNVO"
   },
   "outputs": [],
   "source": [
    "import joblib\n",
    "import re"
   ]
  },
  {
   "cell_type": "markdown",
   "metadata": {
    "id": "P1JMdnrKanuL"
   },
   "source": [
    "## Load Model dan Vectorizer"
   ]
  },
  {
   "cell_type": "code",
   "execution_count": 19,
   "metadata": {
    "id": "gVZA5A_Nah7v"
   },
   "outputs": [],
   "source": [
    "model1 = joblib.load('model1.pkl')\n",
    "model2 = joblib.load('model2.pkl')\n",
    "model3 = joblib.load('model3.pkl')\n",
    "vectorizer1 = joblib.load('vectorizer1.pkl')\n",
    "vectorizer2 = joblib.load('vectorizer2.pkl')\n",
    "vectorizer3 = joblib.load('vectorizer3.pkl')"
   ]
  },
  {
   "cell_type": "markdown",
   "metadata": {},
   "source": [
    "## Preprocessing"
   ]
  },
  {
   "cell_type": "code",
   "execution_count": 20,
   "metadata": {},
   "outputs": [],
   "source": [
    "def preprocess(text):\n",
    "  text = re.sub(r'[^a-zA-Z0-9\\s]', '', text)\n",
    "  text = text.lower()\n",
    "  text = re.sub(r'\\s+', ' ', text).strip()\n",
    "  return text"
   ]
  },
  {
   "cell_type": "markdown",
   "metadata": {},
   "source": [
    "## Uji Coba Dengan Data Baru"
   ]
  },
  {
   "cell_type": "code",
   "execution_count": 21,
   "metadata": {
    "id": "TYqo0lyhbDnW"
   },
   "outputs": [],
   "source": [
    "x = [\"Aplikasinya berjalan mulus, gaada error sama sekali, mantap!\",\n",
    "     \"biasa aja, gaada yang spesial, ga bagus, dan ga jelek\",\n",
    "     \"Aplikasinya tidak membantu sama sekali\",\n",
    "     \"kecewa banget. udah ga sesuai ekspektasi, ngelag lagi\",]\n",
    "\n",
    "# Preprocess\n",
    "clean_text = [preprocess(t) for t in x]"
   ]
  },
  {
   "cell_type": "markdown",
   "metadata": {},
   "source": [
    "### Skema 1: Model 1 dan Vectorizer 1"
   ]
  },
  {
   "cell_type": "code",
   "execution_count": 22,
   "metadata": {},
   "outputs": [
    {
     "name": "stdout",
     "output_type": "stream",
     "text": [
      "Kalimat: 'Aplikasinya berjalan mulus, gaada error sama sekali, mantap!' \n",
      "=> Label: 2\n",
      "\n",
      "Kalimat: 'biasa aja, gaada yang spesial, ga bagus, dan ga jelek' \n",
      "=> Label: 2\n",
      "\n",
      "Kalimat: 'Aplikasinya tidak membantu sama sekali' \n",
      "=> Label: 2\n",
      "\n",
      "Kalimat: 'kecewa banget. udah ga sesuai ekspektasi, ngelag lagi' \n",
      "=> Label: 2\n",
      "\n"
     ]
    }
   ],
   "source": [
    "X_new1 = vectorizer1.transform(clean_text)\n",
    "y_pred1 = model1.predict(X_new1)\n",
    "\n",
    "# Hasil\n",
    "for teks, label in zip(x, y_pred1):\n",
    "    print(f\"Kalimat: '{teks}' \\n=> Label: {label}\\n\")"
   ]
  },
  {
   "cell_type": "markdown",
   "metadata": {},
   "source": [
    "### Skema 2: Model 2 dan Vectorizer 2"
   ]
  },
  {
   "cell_type": "code",
   "execution_count": 23,
   "metadata": {},
   "outputs": [
    {
     "name": "stdout",
     "output_type": "stream",
     "text": [
      "Kalimat: 'Aplikasinya berjalan mulus, gaada error sama sekali, mantap!' \n",
      "=> Label: 2\n",
      "\n",
      "Kalimat: 'biasa aja, gaada yang spesial, ga bagus, dan ga jelek' \n",
      "=> Label: 0\n",
      "\n",
      "Kalimat: 'Aplikasinya tidak membantu sama sekali' \n",
      "=> Label: 2\n",
      "\n",
      "Kalimat: 'kecewa banget. udah ga sesuai ekspektasi, ngelag lagi' \n",
      "=> Label: 0\n",
      "\n"
     ]
    }
   ],
   "source": [
    "X_new2 = vectorizer2.transform(clean_text)\n",
    "y_pred2 = model2.predict(X_new2)\n",
    "\n",
    "# Hasil\n",
    "for teks, label in zip(x, y_pred2):\n",
    "    print(f\"Kalimat: '{teks}' \\n=> Label: {label}\\n\")"
   ]
  },
  {
   "cell_type": "markdown",
   "metadata": {},
   "source": [
    "### Skema 3: Model 3 dan Vectorizer 3"
   ]
  },
  {
   "cell_type": "code",
   "execution_count": 24,
   "metadata": {},
   "outputs": [
    {
     "name": "stdout",
     "output_type": "stream",
     "text": [
      "Kalimat: 'Aplikasinya berjalan mulus, gaada error sama sekali, mantap!' \n",
      "=> Label: 2\n",
      "\n",
      "Kalimat: 'biasa aja, gaada yang spesial, ga bagus, dan ga jelek' \n",
      "=> Label: 2\n",
      "\n",
      "Kalimat: 'Aplikasinya tidak membantu sama sekali' \n",
      "=> Label: 2\n",
      "\n",
      "Kalimat: 'kecewa banget. udah ga sesuai ekspektasi, ngelag lagi' \n",
      "=> Label: 2\n",
      "\n"
     ]
    }
   ],
   "source": [
    "X_new3 = vectorizer3.transform(clean_text)\n",
    "y_pred3 = model3.predict(X_new3)\n",
    "\n",
    "# Hasil\n",
    "for teks, label in zip(x, y_pred3):\n",
    "    print(f\"Kalimat: '{teks}' \\n=> Label: {label}\\n\")"
   ]
  },
  {
   "cell_type": "markdown",
   "metadata": {},
   "source": [
    "## Kesimpulan:\n",
    "Meskipun pada analisis sentimen sebelumnya, hasil menunjukkan akurasi yang tinggi, namun pada hasil inferensi tidak menunjukkan hasil yang sama, meskipun pada contoh kalimat sebenarnya ada kata yang dapat langsung menentukan label dari kalimat tersebut. Meskipun, skema 2 terlihat sedikit lebih baik dalam melakukan analisis sentimen. Hal ini mungkin disebabkan oleh beberapa faktor, seperti:\n",
    "1.  Keterbatasan data: Jumlah data yang digunakan mungkin tidak cukup\n",
    "2.  Keterbatasan model: Model yang digunakan mungkin tidak dapat menangkap pola-pola yang kompleks dalam kalimat\n",
    "3.  Keterbatasan pengolahan bahasa: Pengolahan bahasa yang digunakan mungkin tidak dapat menangkap makna yang terkandung dalam kalimat\n",
    "4.  Keterbatasan penggunaan kata-kata: Penggunaan kata-kata dalam kalimat mungkin tidak dapat menangkap makna yang terkandung dalam kalimat\n",
    "5.  Keterbatasan penggunaan kalimat: Penggunaan kalimat yang tidak sesuai dengan label yang diharapkan\n",
    "\n",
    "Dari hasil analisis, dapat disimpulkan bahwa model yang digunakan masih perlu diperbaiki dan diperluas untuk meningkatkan akurasi inferensi. Selain itu, penggunaan data yang lebih besar dan lebih beragam juga dapat membantu meningkatkan akurasi model. Oleh karena itu, perlu dilakukan penelitian lanjutan untuk meningkatkan akurasi model dan mengembangkan model yang lebih baik. "
   ]
  }
 ],
 "metadata": {
  "colab": {
   "authorship_tag": "ABX9TyMsatJLKBrkAJew67709J+E",
   "mount_file_id": "1dVPPLlPMzXU6oj4mqxJ6K0FPozFhTN3Z",
   "provenance": []
  },
  "kernelspec": {
   "display_name": "Python 3",
   "name": "python3"
  },
  "language_info": {
   "codemirror_mode": {
    "name": "ipython",
    "version": 3
   },
   "file_extension": ".py",
   "mimetype": "text/x-python",
   "name": "python",
   "nbconvert_exporter": "python",
   "pygments_lexer": "ipython3",
   "version": "3.13.2"
  }
 },
 "nbformat": 4,
 "nbformat_minor": 0
}
